{
 "cells": [
  {
   "cell_type": "code",
   "execution_count": 1,
   "id": "38474d06",
   "metadata": {},
   "outputs": [],
   "source": [
    "import numpy as np\n",
    "import cv2\n",
    "import os\n",
    "import glob"
   ]
  },
  {
   "cell_type": "code",
   "execution_count": 2,
   "id": "5d1569cf",
   "metadata": {},
   "outputs": [],
   "source": [
    "# Function to draw lines on frames\n",
    "def draw_lines_on_frames(input_video_path, output_video_path, start_points, end_points):\n",
    "    cap = cv2.VideoCapture(input_video_path)\n",
    "    fps = cap.get(cv2.CAP_PROP_FPS)\n",
    "    width = int(cap.get(cv2.CAP_PROP_FRAME_WIDTH))\n",
    "    height = int(cap.get(cv2.CAP_PROP_FRAME_HEIGHT))\n",
    "    \n",
    "    fourcc = cv2.VideoWriter_fourcc(*'avc1')\n",
    "    out = cv2.VideoWriter(output_video_path, fourcc, fps, (width, height), True)\n",
    "    \n",
    "    while True:\n",
    "        ret, frame = cap.read()\n",
    "        if not ret:\n",
    "            break\n",
    "        \n",
    "        for start, end in zip(start_points, end_points):\n",
    "            cv2.line(frame, tuple(start), tuple(end), (0, 255, 0), 2)\n",
    "        \n",
    "        out.write(frame)\n",
    "        if cv2.waitKey(1) == 27:\n",
    "            break\n",
    "    \n",
    "    cap.release()\n",
    "    out.release()\n",
    "    cv2.waitKey(1)"
   ]
  },
  {
   "cell_type": "code",
   "execution_count": 3,
   "id": "be780aaf",
   "metadata": {},
   "outputs": [],
   "source": [
    "# Name of the reference video (without extension)\n",
    "ref_video_name = 'Ref_video_T026'\n",
    "\n",
    "# Paths and directories\n",
    "working_directory = '/Users/vivekhsridhar/Library/Mobile Documents/com~apple~CloudDocs/Documents/Code/Python/OpenCV/nadia_distance_estimation/'\n",
    "input_videos_folder = os.path.join(working_directory, 'videos/sample')\n",
    "output_videos_folder = os.path.join(working_directory, 'output')\n",
    "\n",
    "# Get a list of input video files\n",
    "input_video_files = glob.glob(os.path.join(input_videos_folder, '*.MP4'))"
   ]
  },
  {
   "cell_type": "code",
   "execution_count": 4,
   "id": "836ff6ad",
   "metadata": {},
   "outputs": [],
   "source": [
    "# Load start and end point arrays from the reference video\n",
    "start_points_path = os.path.join(output_videos_folder, f'{ref_video_name}_start_points.npy')\n",
    "end_points_path = os.path.join(output_videos_folder, f'{ref_video_name}_end_points.npy')\n",
    "\n",
    "start_points_array = np.load(start_points_path)\n",
    "end_points_array = np.load(end_points_path)\n",
    "\n",
    "# Process each input video file\n",
    "for input_video_path in input_video_files:\n",
    "    input_filename = os.path.basename(input_video_path)\n",
    "    output_filename = os.path.splitext(input_filename)[0] + '_output.mp4'\n",
    "    output_video_path = os.path.join(output_videos_folder, output_filename)\n",
    "    \n",
    "    draw_lines_on_frames(input_video_path, output_video_path, start_points_array, end_points_array)\n",
    "    cv2.waitKey(1)"
   ]
  },
  {
   "cell_type": "code",
   "execution_count": null,
   "id": "f2a5732d",
   "metadata": {},
   "outputs": [],
   "source": []
  }
 ],
 "metadata": {
  "kernelspec": {
   "display_name": "Python 3 (ipykernel)",
   "language": "python",
   "name": "python3"
  },
  "language_info": {
   "codemirror_mode": {
    "name": "ipython",
    "version": 3
   },
   "file_extension": ".py",
   "mimetype": "text/x-python",
   "name": "python",
   "nbconvert_exporter": "python",
   "pygments_lexer": "ipython3",
   "version": "3.8.15"
  }
 },
 "nbformat": 4,
 "nbformat_minor": 5
}
