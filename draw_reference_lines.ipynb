{
 "cells": [
  {
   "cell_type": "code",
   "execution_count": 1,
   "metadata": {},
   "outputs": [],
   "source": [
    "import numpy as np\n",
    "import cv2\n",
    "import os"
   ]
  },
  {
   "cell_type": "code",
   "execution_count": 2,
   "metadata": {},
   "outputs": [],
   "source": [
    "# Function to handle mouse events\n",
    "def draw_line(event, x, y, flags, param):\n",
    "    global drawing, ix, iy, start_points, end_points\n",
    "    if event == cv2.EVENT_LBUTTONDOWN:\n",
    "        drawing = True\n",
    "        ix, iy = x, y\n",
    "    elif event == cv2.EVENT_LBUTTONUP:\n",
    "        drawing = False\n",
    "        start_points.append((ix, iy))\n",
    "        end_points.append((x, y))"
   ]
  },
  {
   "cell_type": "code",
   "execution_count": 3,
   "metadata": {},
   "outputs": [],
   "source": [
    "# Input video filename\n",
    "input_filename = 'Ref_video_T026.mp4'\n",
    "\n",
    "# Paths and directories\n",
    "working_directory = '/Users/vivekhsridhar/Library/Mobile Documents/com~apple~CloudDocs/Documents/Code/Python/OpenCV/nadia_distance_estimation/'\n",
    "input_video_path = os.path.join(working_directory, 'videos', input_filename)\n",
    "output_video_suffix = '_output.mp4'\n",
    "\n",
    "# Output folder for modified videos and arrays\n",
    "output_folder = os.path.join(working_directory, 'output')\n",
    "os.makedirs(output_folder, exist_ok=True)\n",
    "\n",
    "# Load saved start and end points arrays if they exist\n",
    "start_points_path = os.path.join(output_folder, os.path.splitext(input_filename)[0] + '_start_points.npy')\n",
    "end_points_path = os.path.join(output_folder, os.path.splitext(input_filename)[0] + '_end_points.npy')\n",
    "\n",
    "if os.path.exists(start_points_path) and os.path.exists(end_points_path):\n",
    "    start_points_array = np.load(start_points_path)\n",
    "    end_points_array = np.load(end_points_path)\n",
    "else:\n",
    "    start_points_array = None\n",
    "    end_points_array = None"
   ]
  },
  {
   "cell_type": "code",
   "execution_count": 4,
   "metadata": {},
   "outputs": [
    {
     "data": {
      "text/plain": [
       "-1"
      ]
     },
     "execution_count": 4,
     "metadata": {},
     "output_type": "execute_result"
    }
   ],
   "source": [
    "# Codec for video encoding\n",
    "fourcc = cv2.VideoWriter_fourcc(*'avc1')\n",
    "\n",
    "# Open the input video file\n",
    "cap = cv2.VideoCapture(input_video_path)\n",
    "fps = cap.get(cv2.CAP_PROP_FPS)\n",
    "width = int(cap.get(cv2.CAP_PROP_FRAME_WIDTH))\n",
    "height = int(cap.get(cv2.CAP_PROP_FRAME_HEIGHT))\n",
    "\n",
    "# Create the output video file\n",
    "output_filename = os.path.splitext(input_filename)[0] + output_video_suffix\n",
    "output_video_path = os.path.join(output_folder, output_filename)\n",
    "out = cv2.VideoWriter(output_video_path, fourcc, fps, (width, height), True)\n",
    "\n",
    "# Create a window for displaying frames\n",
    "cv2.namedWindow('Frame')\n",
    "\n",
    "# Set the mouse callback function\n",
    "cv2.setMouseCallback('Frame', draw_line)\n",
    "\n",
    "drawing = False\n",
    "ix, iy = -1, -1\n",
    "start_points = start_points_array.tolist() if start_points_array is not None else []\n",
    "end_points = end_points_array.tolist() if end_points_array is not None else []\n",
    "\n",
    "# Process each frame in the input video\n",
    "while True:\n",
    "    ret, frame = cap.read()\n",
    "    if not ret:\n",
    "        break\n",
    "    \n",
    "    for start, end in zip(start_points, end_points):\n",
    "        cv2.line(frame, tuple(start), tuple(end), (0, 255, 0), 2)\n",
    "    \n",
    "    if drawing:\n",
    "        for start, end in zip(start_points, end_points):\n",
    "            cv2.line(frame, tuple(start), tuple(end), (0, 255, 0), 2)\n",
    "        cv2.line(frame, (ix, iy), (ix, iy), (0, 255, 0), 2)\n",
    "\n",
    "    cv2.imshow('Frame', frame)\n",
    "    out.write(frame)\n",
    "\n",
    "    if cv2.waitKey(1) == 27:\n",
    "        break\n",
    "\n",
    "# Convert the lists of start and end points to NumPy arrays\n",
    "start_points_array = np.array(start_points)\n",
    "end_points_array = np.array(end_points)\n",
    "\n",
    "# Save the arrays to files in the output folder\n",
    "np.save(start_points_path, start_points_array)\n",
    "np.save(end_points_path, end_points_array)\n",
    "\n",
    "cap.release()\n",
    "out.release()\n",
    "cv2.destroyAllWindows()\n",
    "cv2.waitKey(1)"
   ]
  },
  {
   "cell_type": "code",
   "execution_count": null,
   "metadata": {},
   "outputs": [],
   "source": []
  }
 ],
 "metadata": {
  "kernelspec": {
   "display_name": "Python 3 (ipykernel)",
   "language": "python",
   "name": "python3"
  },
  "language_info": {
   "codemirror_mode": {
    "name": "ipython",
    "version": 3
   },
   "file_extension": ".py",
   "mimetype": "text/x-python",
   "name": "python",
   "nbconvert_exporter": "python",
   "pygments_lexer": "ipython3",
   "version": "3.8.15"
  }
 },
 "nbformat": 4,
 "nbformat_minor": 2
}
